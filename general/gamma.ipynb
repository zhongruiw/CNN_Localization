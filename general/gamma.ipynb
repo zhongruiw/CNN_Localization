{
 "cells": [
  {
   "cell_type": "code",
   "execution_count": 185,
   "metadata": {},
   "outputs": [],
   "source": [
    "import numpy as np\n",
    "\n",
    "\n",
    "shape, scale = 2, 80.  # mean=4, std=2*sqrt(2)\n",
    "s = np.random.gamma(shape, scale, 100000000)"
   ]
  },
  {
   "cell_type": "code",
   "execution_count": 186,
   "metadata": {},
   "outputs": [
    {
     "data": {
      "image/png": "[encoded data removed]",
      "text/plain": [
       "<Figure size 432x288 with 1 Axes>"
      ]
     },
     "metadata": {
      "needs_background": "light"
     },
     "output_type": "display_data"
    }
   ],
   "source": [
    "import matplotlib.pyplot as plt\n",
    "import scipy.special as sps  \n",
    "\n",
    "binsq = range(0,960)\n",
    "count, bins, ignored = plt.hist(s, binsq, density=True)\n",
    "y = bins**(shape-1)*(np.exp(-bins/scale) /  \n",
    "                     (sps.gamma(shape)*scale**shape))\n",
    "plt.plot(bins, y, linewidth=2, color='r')  \n",
    "# plt.xlim(0,480)\n",
    "plt.show()"
   ]
  },
  {
   "cell_type": "code",
   "execution_count": 187,
   "metadata": {},
   "outputs": [
    {
     "data": {
      "text/plain": [
       "(array([80]),)"
      ]
     },
     "execution_count": 187,
     "metadata": {},
     "output_type": "execute_result"
    }
   ],
   "source": [
    "np.where(y == y.max())"
   ]
  },
  {
   "cell_type": "code",
   "execution_count": 100,
   "metadata": {},
   "outputs": [
    {
     "data": {
      "text/plain": [
       "array([0., 0., 0., 0., 0., 0., 0., 0., 0., 0., 0., 0., 0., 0., 0., 0., 0.,\n",
       "       0., 0., 0., 0., 0., 0., 0., 0., 0., 0., 0., 0., 0., 0., 0., 0., 0.,\n",
       "       0., 0., 0., 0., 0., 0., 0., 0., 0., 0., 0., 0., 0., 0., 0., 0., 0.,\n",
       "       0., 0., 0., 0., 0., 0., 0., 0., 0., 0., 0., 0., 0., 0., 0., 0., 0.,\n",
       "       0., 0., 0., 0., 0., 0., 0., 0., 0., 0., 0., 0., 0., 0., 0., 0., 0.,\n",
       "       0., 0., 0., 0., 0., 0., 0., 0., 0., 0., 0., 0., 0., 0., 0., 0., 0.,\n",
       "       0., 0., 0., 0., 0., 0., 0., 0., 0., 0., 0., 0., 0., 0., 0., 0., 0.,\n",
       "       0., 0., 0., 0., 0., 0., 0., 0., 0., 0., 0., 0., 0., 0., 0., 0., 0.,\n",
       "       0., 0., 0., 0., 0., 0., 0., 0., 0., 0., 0., 0., 0., 0., 0., 0., 0.,\n",
       "       0., 0., 0., 0., 0., 0., 0., 0., 0., 0., 0., 0., 0., 0., 0., 0., 0.,\n",
       "       0., 0., 0., 0., 0., 0., 0., 0., 0., 0., 0., 0., 0., 0., 0., 0., 0.,\n",
       "       0., 0., 0., 0., 0., 0., 0., 0., 0., 0., 0., 0., 0., 0., 0., 0., 0.,\n",
       "       0., 0., 0., 0., 0., 0., 0., 0., 0., 0., 0., 0., 0., 0., 0., 0., 0.,\n",
       "       0., 0., 0., 0., 0., 0., 0., 0., 0., 0., 0., 0., 0., 0., 0., 0., 0.,\n",
       "       0., 0., 0., 0., 0., 0., 0., 0., 0., 0., 0., 0., 0., 0., 0., 0., 0.,\n",
       "       0., 0., 0., 0., 0., 0., 0., 0., 0., 0., 0., 0., 0., 0., 0., 0., 0.,\n",
       "       0., 0., 0., 0., 0., 0., 0., 0., 0., 0., 0., 0., 0., 0., 0., 0., 0.,\n",
       "       0., 0., 0., 0., 0., 0., 0., 0., 0., 0., 0., 0., 0., 0., 0., 0., 0.,\n",
       "       0., 0., 0., 0., 0., 0., 0., 0., 0., 0., 0., 0., 0., 0., 0., 0., 0.,\n",
       "       0., 0., 0., 0., 0., 0., 0., 0., 0., 0., 0., 0., 0., 0., 0., 0., 0.,\n",
       "       0., 0., 0., 0., 0., 0., 0., 0., 0., 0., 0., 0., 0., 0., 0., 0., 0.,\n",
       "       0., 0., 0., 0., 0., 0., 0., 0., 0., 0., 0., 0., 0., 0., 0., 0., 0.,\n",
       "       0., 0., 0., 0., 0., 0., 0., 0., 0., 0., 0., 0., 0., 0., 0., 0., 0.,\n",
       "       0., 0., 0., 0., 0., 0., 0., 0., 0., 0., 0., 0., 0., 0., 0., 0., 0.,\n",
       "       0., 0., 0., 0., 0., 0., 0., 0., 0., 0., 0., 0., 0., 0., 0., 0., 0.,\n",
       "       0., 0., 0., 0., 0., 0., 0., 0., 0., 0., 0., 0., 0., 0., 0., 0., 0.,\n",
       "       0., 0., 0., 0., 0., 0., 0., 0., 0., 0., 0., 0., 0., 0., 0., 0., 0.,\n",
       "       0., 0., 0., 0., 0., 0., 0., 0., 0., 0., 0., 0., 0., 0., 0., 0., 0.,\n",
       "       0., 0., 0., 0.])"
      ]
     },
     "execution_count": 100,
     "metadata": {},
     "output_type": "execute_result"
    }
   ],
   "source": [
    "np.repeat(0.,480)"
   ]
  },
  {
   "cell_type": "code",
   "execution_count": 101,
   "metadata": {},
   "outputs": [],
   "source": [
    "yy = np.concatenate((y,np.repeat(0.,480)), axis=0)"
   ]
  },
  {
   "cell_type": "code",
   "execution_count": 191,
   "metadata": {},
   "outputs": [
    {
     "data": {
      "text/plain": [
       "(array([80]),)"
      ]
     },
     "execution_count": 191,
     "metadata": {},
     "output_type": "execute_result"
    }
   ],
   "source": [
    "np.where(yy == yy.max())"
   ]
  },
  {
   "cell_type": "code",
   "execution_count": 188,
   "metadata": {},
   "outputs": [],
   "source": [
    "np.save('gamma_k2_theta80.npy', y)"
   ]
  },
  {
   "cell_type": "code",
   "execution_count": 189,
   "metadata": {},
   "outputs": [],
   "source": [
    "yy = np.load('gamma_k2_theta80.npy')"
   ]
  },
  {
   "cell_type": "code",
   "execution_count": 190,
   "metadata": {},
   "outputs": [
    {
     "data": {
      "text/plain": [
       "0.004598493014643029"
      ]
     },
     "execution_count": 190,
     "metadata": {},
     "output_type": "execute_result"
    }
   ],
   "source": [
    "yy.max()"
   ]
  },
  {
   "cell_type": "code",
   "execution_count": 192,
   "metadata": {},
   "outputs": [
    {
     "data": {
      "text/plain": [
       "array([4.59517772e-03, 4.59703181e-03, 4.59813075e-03, 4.59849301e-03,\n",
       "       4.59813674e-03, 4.59707971e-03, 4.59533941e-03, 4.59293296e-03,\n",
       "       4.58987718e-03, 4.58618859e-03, 4.58188336e-03, 4.57697740e-03,\n",
       "       4.57148629e-03, 4.56542532e-03, 4.55880951e-03, 4.55165356e-03,\n",
       "       4.54397192e-03, 4.53577876e-03, 4.52708797e-03, 4.51791318e-03,\n",
       "       4.50826775e-03, 4.49816479e-03, 4.48761715e-03, 4.47663745e-03,\n",
       "       4.46523805e-03, 4.45343106e-03, 4.44122837e-03, 4.42864164e-03,\n",
       "       4.41568228e-03, 4.40236151e-03, 4.38869029e-03, 4.37467940e-03,\n",
       "       4.36033937e-03, 4.34568055e-03, 4.33071308e-03, 4.31544687e-03,\n",
       "       4.29989167e-03, 4.28405700e-03, 4.26795222e-03, 4.25158647e-03,\n",
       "       4.23496873e-03, 4.21810778e-03, 4.20101223e-03, 4.18369050e-03,\n",
       "       4.16615086e-03, 4.14840140e-03, 4.13045002e-03, 4.11230449e-03,\n",
       "       4.09397241e-03, 4.07546119e-03, 4.05677814e-03, 4.03793036e-03,\n",
       "       4.01892484e-03, 3.99976840e-03, 3.98046773e-03, 3.96102937e-03,\n",
       "       3.94145970e-03, 3.92176501e-03, 3.90195140e-03, 3.88202489e-03,\n",
       "       3.86199132e-03, 3.84185643e-03, 3.82162583e-03, 3.80130501e-03,\n",
       "       3.78089933e-03, 3.76041404e-03, 3.73985425e-03, 3.71922498e-03,\n",
       "       3.69853114e-03, 3.67777751e-03, 3.65696876e-03, 3.63610947e-03,\n",
       "       3.61520411e-03, 3.59425704e-03, 3.57327251e-03, 3.55225471e-03,\n",
       "       3.53120768e-03, 3.51013540e-03, 3.48904174e-03, 3.46793049e-03,\n",
       "       3.44680534e-03, 3.42566990e-03, 3.40452766e-03, 3.38338208e-03,\n",
       "       3.36223649e-03, 3.34109416e-03, 3.31995826e-03, 3.29883190e-03,\n",
       "       3.27771811e-03, 3.25661984e-03, 3.23553995e-03, 3.21448124e-03,\n",
       "       3.19344645e-03, 3.17243822e-03, 3.15145914e-03, 3.13051174e-03,\n",
       "       3.10959846e-03, 3.08872168e-03, 3.06788373e-03, 3.04708685e-03,\n",
       "       3.02633326e-03, 3.00562508e-03, 2.98496439e-03, 2.96435319e-03,\n",
       "       2.94379346e-03, 2.92328708e-03, 2.90283592e-03, 2.88244176e-03,\n",
       "       2.86210634e-03, 2.84183134e-03, 2.82161842e-03, 2.80146914e-03,\n",
       "       2.78138505e-03, 2.76136765e-03, 2.74141836e-03, 2.72153860e-03,\n",
       "       2.70172970e-03, 2.68199298e-03, 2.66232970e-03, 2.64274109e-03,\n",
       "       2.62322831e-03, 2.60379251e-03, 2.58443479e-03, 2.56515621e-03,\n",
       "       2.54595778e-03, 2.52684050e-03, 2.50780530e-03, 2.48885310e-03,\n",
       "       2.46998478e-03, 2.45120117e-03, 2.43250308e-03, 2.41389129e-03,\n",
       "       2.39536654e-03, 2.37692953e-03, 2.35858094e-03, 2.34032143e-03,\n",
       "       2.32215161e-03, 2.30407207e-03, 2.28608338e-03, 2.26818605e-03,\n",
       "       2.25038061e-03, 2.23266753e-03, 2.21504726e-03, 2.19752023e-03,\n",
       "       2.18008684e-03, 2.16274747e-03, 2.14550248e-03, 2.12835219e-03,\n",
       "       2.11129692e-03, 2.09433694e-03, 2.07747253e-03, 2.06070393e-03,\n",
       "       2.04403136e-03, 2.02745501e-03, 2.01097508e-03, 1.99459173e-03,\n",
       "       1.97830509e-03, 1.96211530e-03, 1.94602246e-03, 1.93002666e-03,\n",
       "       1.91412797e-03, 1.89832645e-03, 1.88262214e-03, 1.86701506e-03,\n",
       "       1.85150522e-03, 1.83609262e-03, 1.82077722e-03, 1.80555899e-03,\n",
       "       1.79043789e-03, 1.77541384e-03, 1.76048677e-03, 1.74565659e-03,\n",
       "       1.73092320e-03, 1.71628647e-03, 1.70174628e-03, 1.68730250e-03,\n",
       "       1.67295496e-03, 1.65870351e-03, 1.64454797e-03, 1.63048816e-03,\n",
       "       1.61652389e-03, 1.60265494e-03, 1.58888112e-03, 1.57520219e-03,\n",
       "       1.56161793e-03, 1.54812808e-03, 1.53473241e-03, 1.52143066e-03,\n",
       "       1.50822255e-03, 1.49510781e-03, 1.48208617e-03, 1.46915733e-03,\n",
       "       1.45632100e-03, 1.44357687e-03, 1.43092463e-03, 1.41836397e-03,\n",
       "       1.40589457e-03, 1.39351609e-03, 1.38122821e-03, 1.36903057e-03,\n",
       "       1.35692284e-03, 1.34490466e-03, 1.33297567e-03, 1.32113552e-03,\n",
       "       1.30938384e-03, 1.29772026e-03, 1.28614440e-03, 1.27465588e-03,\n",
       "       1.26325433e-03, 1.25193934e-03, 1.24071053e-03, 1.22956751e-03,\n",
       "       1.21850987e-03, 1.20753722e-03, 1.19664915e-03, 1.18584525e-03,\n",
       "       1.17512511e-03, 1.16448832e-03, 1.15393445e-03, 1.14346310e-03,\n",
       "       1.13307384e-03, 1.12276624e-03, 1.11253988e-03, 1.10239434e-03,\n",
       "       1.09232918e-03, 1.08234396e-03, 1.07243827e-03, 1.06261166e-03,\n",
       "       1.05286370e-03, 1.04319395e-03, 1.03360197e-03, 1.02408732e-03,\n",
       "       1.01464955e-03, 1.00528824e-03, 9.96002931e-04, 9.86793183e-04,\n",
       "       9.77658551e-04, 9.68598590e-04, 9.59612855e-04, 9.50700900e-04,\n",
       "       9.41862278e-04, 9.33096543e-04, 9.24403247e-04, 9.15781944e-04,\n",
       "       9.07232187e-04, 8.98753528e-04, 8.90345520e-04, 8.82007716e-04,\n",
       "       8.73739670e-04, 8.65540935e-04, 8.57411065e-04, 8.49349614e-04,\n",
       "       8.41356137e-04, 8.33430190e-04, 8.25571327e-04, 8.17779105e-04,\n",
       "       8.10053082e-04, 8.02392814e-04, 7.94797862e-04, 7.87267783e-04,\n",
       "       7.79802139e-04, 7.72400489e-04, 7.65062398e-04, 7.57787426e-04,\n",
       "       7.50575140e-04, 7.43425103e-04, 7.36336883e-04, 7.29310047e-04,\n",
       "       7.22344163e-04, 7.15438802e-04, 7.08593535e-04, 7.01807934e-04,\n",
       "       6.95081574e-04, 6.88414029e-04, 6.81804877e-04, 6.75253695e-04,\n",
       "       6.68760063e-04, 6.62323563e-04, 6.55943776e-04, 6.49620288e-04,\n",
       "       6.43352683e-04, 6.37140550e-04, 6.30983477e-04, 6.24881055e-04,\n",
       "       6.18832877e-04, 6.12838535e-04, 6.06897627e-04, 6.01009749e-04,\n",
       "       5.95174501e-04, 5.89391484e-04, 5.83660301e-04, 5.77980555e-04,\n",
       "       5.72351855e-04, 5.66773807e-04, 5.61246022e-04, 5.55768112e-04,\n",
       "       5.50339691e-04, 5.44960375e-04, 5.39629781e-04, 5.34347530e-04,\n",
       "       5.29113242e-04, 5.23926540e-04, 5.18787052e-04, 5.13694403e-04,\n",
       "       5.08648223e-04, 5.03648144e-04, 4.98693799e-04, 4.93784823e-04,\n",
       "       4.88920854e-04, 4.84101530e-04, 4.79326494e-04, 4.74595389e-04,\n",
       "       4.69907860e-04, 4.65263554e-04, 4.60662121e-04, 4.56103213e-04,\n",
       "       4.51586483e-04, 4.47111587e-04, 4.42678182e-04, 4.38285927e-04,\n",
       "       4.33934486e-04, 4.29623522e-04, 4.25352699e-04, 4.21121687e-04,\n",
       "       4.16930156e-04, 4.12777777e-04, 4.08664224e-04, 4.04589174e-04,\n",
       "       4.00552304e-04, 3.96553296e-04, 3.92591831e-04, 3.88667594e-04,\n",
       "       3.84780270e-04, 3.80929549e-04, 3.77115122e-04, 3.73336679e-04,\n",
       "       3.69593917e-04, 3.65886532e-04, 3.62214221e-04, 3.58576687e-04,\n",
       "       3.54973632e-04, 3.51404760e-04, 3.47869778e-04, 3.44368395e-04,\n",
       "       3.40900322e-04, 3.37465270e-04, 3.34062956e-04, 3.30693096e-04,\n",
       "       3.27355409e-04, 3.24049614e-04, 3.20775436e-04, 3.17532598e-04,\n",
       "       3.14320827e-04, 3.11139852e-04, 3.07989404e-04, 3.04869214e-04,\n",
       "       3.01779017e-04, 2.98718549e-04, 2.95687549e-04, 2.92685757e-04,\n",
       "       2.89712915e-04, 2.86768766e-04, 2.83853058e-04, 2.80965536e-04,\n",
       "       2.78105952e-04, 2.75274057e-04, 2.72469603e-04, 2.69692346e-04,\n",
       "       2.66942044e-04, 2.64218455e-04, 2.61521339e-04, 2.58850460e-04,\n",
       "       2.56205582e-04, 2.53586471e-04, 2.50992894e-04, 2.48424622e-04,\n",
       "       2.45881427e-04, 2.43363081e-04, 2.40869359e-04, 2.38400039e-04,\n",
       "       2.35954899e-04, 2.33533719e-04, 2.31136281e-04, 2.28762370e-04,\n",
       "       2.26411770e-04, 2.24084268e-04, 2.21779655e-04, 2.19497719e-04,\n",
       "       2.17238254e-04, 2.15001052e-04, 2.12785911e-04, 2.10592626e-04,\n",
       "       2.08420997e-04, 2.06270824e-04, 2.04141909e-04, 2.02034055e-04,\n",
       "       1.99947069e-04, 1.97880757e-04, 1.95834927e-04, 1.93809389e-04,\n",
       "       1.91803954e-04, 1.89818437e-04, 1.87852651e-04, 1.85906413e-04,\n",
       "       1.83979541e-04, 1.82071852e-04, 1.80183170e-04, 1.78313314e-04,\n",
       "       1.76462110e-04, 1.74629382e-04, 1.72814957e-04, 1.71018664e-04,\n",
       "       1.69240330e-04, 1.67479789e-04, 1.65736871e-04, 1.64011411e-04,\n",
       "       1.62303244e-04, 1.60612207e-04, 1.58938137e-04, 1.57280874e-04,\n",
       "       1.55640259e-04, 1.54016134e-04, 1.52408343e-04, 1.50816729e-04,\n",
       "       1.49241140e-04, 1.47681423e-04, 1.46137427e-04, 1.44609001e-04,\n",
       "       1.43095998e-04, 1.41598269e-04, 1.40115670e-04, 1.38648054e-04,\n",
       "       1.37195279e-04, 1.35757202e-04, 1.34333683e-04, 1.32924582e-04,\n",
       "       1.31529759e-04, 1.30149079e-04, 1.28782404e-04, 1.27429600e-04,\n",
       "       1.26090533e-04, 1.24765070e-04, 1.23453081e-04, 1.22154434e-04,\n",
       "       1.20869002e-04, 1.19596655e-04, 1.18337268e-04, 1.17090715e-04,\n",
       "       1.15856870e-04, 1.14635611e-04, 1.13426816e-04, 1.12230363e-04,\n",
       "       1.11046132e-04, 1.09874004e-04, 1.08713862e-04, 1.07565588e-04,\n",
       "       1.06429066e-04, 1.05304181e-04, 1.04190821e-04, 1.03088872e-04,\n",
       "       1.01998222e-04, 1.00918761e-04, 9.98503794e-05, 9.87929680e-05,\n",
       "       9.77464193e-05, 9.67106267e-05, 9.56854844e-05, 9.46708876e-05,\n",
       "       9.36667325e-05, 9.26729163e-05, 9.16893370e-05, 9.07158937e-05,\n",
       "       8.97524864e-05, 8.87990158e-05, 8.78553839e-05, 8.69214933e-05,\n",
       "       8.59972475e-05, 8.50825512e-05, 8.41773096e-05, 8.32814290e-05,\n",
       "       8.23948165e-05, 8.15173802e-05, 8.06490288e-05, 7.97896720e-05,\n",
       "       7.89392204e-05, 7.80975853e-05, 7.72646790e-05, 7.64404144e-05,\n",
       "       7.56247053e-05, 7.48174665e-05, 7.40186133e-05, 7.32280619e-05,\n",
       "       7.24457295e-05, 7.16715337e-05, 7.09053932e-05, 7.01472273e-05,\n",
       "       6.93969560e-05, 6.86545003e-05, 6.79197818e-05, 6.71927228e-05,\n",
       "       6.64732463e-05, 6.57612762e-05, 6.50567370e-05, 6.43595540e-05,\n",
       "       6.36696531e-05, 6.29869610e-05, 6.23114050e-05, 6.16429132e-05,\n",
       "       6.09814144e-05, 6.03268379e-05, 5.96791139e-05, 5.90381731e-05,\n",
       "       5.84039469e-05, 5.77763675e-05, 5.71553675e-05, 5.65408804e-05,\n",
       "       5.59328401e-05, 5.53311814e-05, 5.47358394e-05, 5.41467501e-05,\n",
       "       5.35638501e-05, 5.29870764e-05, 5.24163668e-05, 5.18516597e-05,\n",
       "       5.12928940e-05, 5.07400091e-05, 5.01929453e-05, 4.96516432e-05,\n",
       "       4.91160442e-05, 4.85860899e-05, 4.80617230e-05, 4.75428862e-05,\n",
       "       4.70295231e-05, 4.65215779e-05, 4.60189951e-05, 4.55217198e-05,\n",
       "       4.50296979e-05, 4.45428754e-05, 4.40611991e-05, 4.35846164e-05,\n",
       "       4.31130749e-05, 4.26465230e-05, 4.21849095e-05, 4.17281836e-05,\n",
       "       4.12762953e-05, 4.08291947e-05, 4.03868327e-05, 3.99491605e-05,\n",
       "       3.95161298e-05, 3.90876930e-05, 3.86638026e-05, 3.82444119e-05,\n",
       "       3.78294744e-05, 3.74189443e-05, 3.70127760e-05, 3.66109246e-05,\n",
       "       3.62133455e-05, 3.58199945e-05, 3.54308280e-05, 3.50458026e-05,\n",
       "       3.46648756e-05, 3.42880046e-05, 3.39151475e-05, 3.35462628e-05,\n",
       "       3.31813093e-05, 3.28202464e-05, 3.24630336e-05, 3.21096309e-05,\n",
       "       3.17599990e-05, 3.14140986e-05, 3.10718910e-05, 3.07333377e-05,\n",
       "       3.03984009e-05, 3.00670429e-05, 2.97392265e-05, 2.94149148e-05,\n",
       "       2.90940713e-05, 2.87766599e-05, 2.84626450e-05, 2.81519909e-05,\n",
       "       2.78446628e-05, 2.75406259e-05, 2.72398459e-05, 2.69422887e-05,\n",
       "       2.66479208e-05, 2.63567088e-05, 2.60686197e-05, 2.57836208e-05,\n",
       "       2.55016799e-05, 2.52227650e-05, 2.49468443e-05, 2.46738866e-05,\n",
       "       2.44038608e-05, 2.41367361e-05, 2.38724823e-05, 2.36110690e-05,\n",
       "       2.33524667e-05, 2.30966457e-05, 2.28435769e-05, 2.25932314e-05,\n",
       "       2.23455805e-05, 2.21005960e-05, 2.18582498e-05, 2.16185142e-05,\n",
       "       2.13813617e-05, 2.11467652e-05, 2.09146976e-05, 2.06851325e-05,\n",
       "       2.04580434e-05, 2.02334043e-05, 2.00111893e-05, 1.97913728e-05,\n",
       "       1.95739296e-05, 1.93588346e-05, 1.91460631e-05, 1.89355905e-05,\n",
       "       1.87273924e-05, 1.85214450e-05, 1.83177243e-05, 1.81162069e-05,\n",
       "       1.79168695e-05, 1.77196889e-05, 1.75246425e-05, 1.73317074e-05,\n",
       "       1.71408615e-05, 1.69520826e-05, 1.67653487e-05, 1.65806383e-05,\n",
       "       1.63979297e-05, 1.62172019e-05, 1.60384338e-05, 1.58616046e-05,\n",
       "       1.56866937e-05, 1.55136807e-05, 1.53425455e-05, 1.51732681e-05,\n",
       "       1.50058288e-05, 1.48402080e-05, 1.46763863e-05, 1.45143448e-05,\n",
       "       1.43540643e-05, 1.41955262e-05, 1.40387119e-05, 1.38836030e-05,\n",
       "       1.37301813e-05, 1.35784290e-05, 1.34283281e-05, 1.32798611e-05,\n",
       "       1.31330105e-05, 1.29877591e-05, 1.28440898e-05, 1.27019857e-05,\n",
       "       1.25614302e-05, 1.24224066e-05, 1.22848986e-05, 1.21488899e-05,\n",
       "       1.20143647e-05, 1.18813069e-05, 1.17497009e-05, 1.16195312e-05,\n",
       "       1.14907824e-05, 1.13634392e-05, 1.12374866e-05, 1.11129098e-05,\n",
       "       1.09896939e-05, 1.08678244e-05, 1.07472868e-05, 1.06280669e-05,\n",
       "       1.05101505e-05, 1.03935237e-05, 1.02781725e-05, 1.01640834e-05,\n",
       "       1.00512426e-05, 9.93963694e-06, 9.82925301e-06, 9.72007770e-06,\n",
       "       9.61209803e-06, 9.50530113e-06, 9.39967428e-06, 9.29520490e-06,\n",
       "       9.19188052e-06, 9.08968882e-06, 8.98861760e-06, 8.88865480e-06,\n",
       "       8.78978847e-06, 8.69200680e-06, 8.59529809e-06, 8.49965078e-06,\n",
       "       8.40505342e-06, 8.31149468e-06, 8.21896337e-06, 8.12744838e-06,\n",
       "       8.03693875e-06, 7.94742362e-06, 7.85889226e-06, 7.77133402e-06,\n",
       "       7.68473841e-06, 7.59909501e-06, 7.51439352e-06, 7.43062378e-06,\n",
       "       7.34777568e-06, 7.26583927e-06, 7.18480468e-06, 7.10466214e-06,\n",
       "       7.02540200e-06, 6.94701471e-06, 6.86949080e-06, 6.79282093e-06,\n",
       "       6.71699584e-06, 6.64200636e-06, 6.56784345e-06, 6.49449814e-06,\n",
       "       6.42196156e-06, 6.35022493e-06, 6.27927957e-06, 6.20911690e-06,\n",
       "       6.13972842e-06, 6.07110572e-06, 6.00324048e-06, 5.93612447e-06,\n",
       "       5.86974955e-06, 5.80410767e-06, 5.73919086e-06, 5.67499122e-06,\n",
       "       5.61150097e-06, 5.54871238e-06, 5.48661781e-06, 5.42520973e-06,\n",
       "       5.36448064e-06, 5.30442316e-06, 5.24502998e-06, 5.18629385e-06,\n",
       "       5.12820762e-06, 5.07076420e-06, 5.01395659e-06, 4.95777786e-06,\n",
       "       4.90222115e-06, 4.84727967e-06, 4.79294671e-06, 4.73921563e-06,\n",
       "       4.68607987e-06, 4.63353291e-06, 4.58156834e-06, 4.53017980e-06,\n",
       "       4.47936098e-06, 4.42910567e-06, 4.37940771e-06, 4.33026101e-06,\n",
       "       4.28165953e-06, 4.23359732e-06, 4.18606848e-06, 4.13906718e-06,\n",
       "       4.09258764e-06, 4.04662415e-06, 4.00117106e-06, 3.95622279e-06,\n",
       "       3.91177381e-06, 3.86781865e-06, 3.82435189e-06, 3.78136820e-06,\n",
       "       3.73886227e-06, 3.69682887e-06, 3.65526281e-06, 3.61415898e-06,\n",
       "       3.57351230e-06, 3.53331775e-06, 3.49357039e-06, 3.45426529e-06,\n",
       "       3.41539761e-06, 3.37696254e-06, 3.33895533e-06, 3.30137129e-06,\n",
       "       3.26420576e-06, 3.22745415e-06, 3.19111191e-06, 3.15517454e-06,\n",
       "       3.11963758e-06, 3.08449665e-06, 3.04974737e-06, 3.01538545e-06,\n",
       "       2.98140661e-06, 2.94780666e-06, 2.91458141e-06, 2.88172674e-06,\n",
       "       2.84923858e-06, 2.81711288e-06, 2.78534566e-06, 2.75393296e-06,\n",
       "       2.72287088e-06, 2.69215556e-06, 2.66178318e-06, 2.63174995e-06,\n",
       "       2.60205213e-06, 2.57268603e-06, 2.54364799e-06, 2.51493438e-06,\n",
       "       2.48654164e-06, 2.45846621e-06, 2.43070460e-06, 2.40325334e-06,\n",
       "       2.37610901e-06, 2.34926822e-06, 2.32272760e-06, 2.29648386e-06,\n",
       "       2.27053370e-06, 2.24487389e-06, 2.21950121e-06, 2.19441249e-06,\n",
       "       2.16960459e-06, 2.14507440e-06, 2.12081886e-06, 2.09683493e-06,\n",
       "       2.07311960e-06, 2.04966989e-06, 2.02648287e-06, 2.00355564e-06,\n",
       "       1.98088531e-06, 1.95846904e-06, 1.93630401e-06, 1.91438745e-06,\n",
       "       1.89271660e-06, 1.87128874e-06, 1.85010117e-06, 1.82915123e-06,\n",
       "       1.80843629e-06, 1.78795375e-06, 1.76770102e-06, 1.74767555e-06,\n",
       "       1.72787483e-06, 1.70829636e-06, 1.68893768e-06, 1.66979634e-06,\n",
       "       1.65086994e-06, 1.63215608e-06, 1.61365241e-06, 1.59535659e-06,\n",
       "       1.57726632e-06, 1.55937930e-06, 1.54169329e-06, 1.52420605e-06,\n",
       "       1.50691537e-06, 1.48981906e-06, 1.47291497e-06, 1.45620095e-06,\n",
       "       1.43967490e-06, 1.42333472e-06, 1.40717834e-06, 1.39120372e-06,\n",
       "       1.37540884e-06, 1.35979170e-06, 1.34435031e-06, 1.32908272e-06,\n",
       "       1.31398700e-06, 1.29906123e-06, 1.28430352e-06, 1.26971200e-06,\n",
       "       1.25528481e-06, 1.24102013e-06, 1.22691614e-06, 1.21297105e-06,\n",
       "       1.19918310e-06, 1.18555052e-06, 1.17207158e-06, 1.15874458e-06,\n",
       "       1.14556782e-06, 1.13253962e-06, 1.11965832e-06, 1.10692229e-06,\n",
       "       1.09432990e-06, 1.08187956e-06, 1.06956966e-06, 1.05739865e-06,\n",
       "       1.04536498e-06, 1.03346711e-06, 1.02170352e-06, 1.01007272e-06,\n",
       "       9.98573211e-07, 9.87203540e-07, 9.75962251e-07, 9.64847908e-07,\n",
       "       9.53859093e-07, 9.42994401e-07, 9.32252446e-07, 0.00000000e+00,\n",
       "       1.54309031e-04, 3.04784348e-04, 4.51497383e-04, 5.94518390e-04,\n",
       "       7.33916455e-04, 8.69759518e-04, 1.00211439e-03, 1.13104677e-03,\n",
       "       1.25662127e-03, 1.37890141e-03, 1.49794966e-03, 1.61382746e-03,\n",
       "       1.72659518e-03, 1.83631223e-03, 1.94303700e-03, 2.04682688e-03,\n",
       "       2.14773834e-03, 2.24582687e-03, 2.34114702e-03, 2.43375245e-03,\n",
       "       2.52369588e-03, 2.61102917e-03, 2.69580329e-03, 2.77806833e-03,\n",
       "       2.85787355e-03, 2.93526737e-03, 3.01029739e-03, 3.08301039e-03,\n",
       "       3.15345236e-03, 3.22166849e-03, 3.28770323e-03, 3.35160023e-03,\n",
       "       3.41340242e-03, 3.47315198e-03, 3.53089038e-03, 3.58665835e-03,\n",
       "       3.64049595e-03, 3.69244252e-03, 3.74253675e-03, 3.79081662e-03,\n",
       "       3.83731950e-03, 3.88208208e-03, 3.92514042e-03, 3.96652995e-03,\n",
       "       4.00628549e-03, 4.04444124e-03, 4.08103083e-03, 4.11608727e-03,\n",
       "       4.14964301e-03, 4.18172991e-03, 4.21237930e-03, 4.24162194e-03,\n",
       "       4.26948804e-03, 4.29600730e-03, 4.32120887e-03, 4.34512141e-03,\n",
       "       4.36777304e-03, 4.38919141e-03, 4.40940365e-03, 4.42843643e-03,\n",
       "       4.44631594e-03, 4.46306788e-03, 4.47871751e-03, 4.49328964e-03,\n",
       "       4.50680862e-03, 4.51929836e-03, 4.53078235e-03, 4.54128365e-03,\n",
       "       4.55082490e-03, 4.55942834e-03, 4.56711579e-03, 4.57390867e-03,\n",
       "       4.57982804e-03, 4.58489453e-03, 4.58912844e-03, 4.59254965e-03])"
      ]
     },
     "execution_count": 192,
     "metadata": {},
     "output_type": "execute_result"
    }
   ],
   "source": [
    "np.roll(yy, -80+3)"
   ]
  },
  {
   "cell_type": "code",
   "execution_count": 196,
   "metadata": {},
   "outputs": [
    {
     "name": "stdout",
     "output_type": "stream",
     "text": [
      "[[4.57982804e-03 4.58489453e-03 4.58912844e-03 4.59254965e-03\n",
      "  4.59517772e-03 4.59703181e-03 4.59813075e-03 4.59849301e-03\n",
      "  4.59813674e-03 4.59707971e-03 4.59533941e-03 4.59293296e-03\n",
      "  4.58987718e-03 4.58618859e-03 4.58188336e-03 4.57697740e-03\n",
      "  4.57148629e-03 4.56542532e-03 4.55880951e-03 4.55165356e-03\n",
      "  4.54397192e-03 4.53577876e-03 4.52708797e-03 4.51791318e-03\n",
      "  4.50826775e-03 4.49816479e-03 4.48761715e-03 4.47663745e-03\n",
      "  4.46523805e-03 4.45343106e-03 4.44122837e-03 4.42864164e-03\n",
      "  4.41568228e-03 4.40236151e-03 4.38869029e-03 4.37467940e-03\n",
      "  4.36033937e-03 4.34568055e-03 4.33071308e-03 4.31544687e-03\n",
      "  4.29989167e-03 4.28405700e-03 4.26795222e-03 4.25158647e-03\n",
      "  4.23496873e-03 4.21810778e-03 4.20101223e-03 4.18369050e-03\n",
      "  4.16615086e-03 4.14840140e-03 4.13045002e-03 4.11230449e-03\n",
      "  4.09397241e-03 4.07546119e-03 4.05677814e-03 4.03793036e-03\n",
      "  4.01892484e-03 3.99976840e-03 3.98046773e-03 3.96102937e-03\n",
      "  3.94145970e-03 3.92176501e-03 3.90195140e-03 3.88202489e-03\n",
      "  3.86199132e-03 3.84185643e-03 3.82162583e-03 3.80130501e-03\n",
      "  3.78089933e-03 3.76041404e-03 3.73985425e-03 3.71922498e-03\n",
      "  3.69853114e-03 3.67777751e-03 3.65696876e-03 3.63610947e-03\n",
      "  3.61520411e-03 3.59425704e-03 3.57327251e-03 3.55225471e-03\n",
      "  3.53120768e-03 3.51013540e-03 3.48904174e-03 3.46793049e-03\n",
      "  3.44680534e-03 3.42566990e-03 3.40452766e-03 3.38338208e-03\n",
      "  3.36223649e-03 3.34109416e-03 3.31995826e-03 3.29883190e-03\n",
      "  3.27771811e-03 3.25661984e-03 3.23553995e-03 3.21448124e-03\n",
      "  3.19344645e-03 3.17243822e-03 3.15145914e-03 3.13051174e-03\n",
      "  3.10959846e-03 3.08872168e-03 3.06788373e-03 3.04708685e-03\n",
      "  3.02633326e-03 3.00562508e-03 2.98496439e-03 2.96435319e-03\n",
      "  2.94379346e-03 2.92328708e-03 2.90283592e-03 2.88244176e-03\n",
      "  2.86210634e-03 2.84183134e-03 2.82161842e-03 2.80146914e-03\n",
      "  2.78138505e-03 2.76136765e-03 2.74141836e-03 2.72153860e-03\n",
      "  2.70172970e-03 2.68199298e-03 2.66232970e-03 2.64274109e-03\n",
      "  2.62322831e-03 2.60379251e-03 2.58443479e-03 2.56515621e-03\n",
      "  2.54595778e-03 2.52684050e-03 2.50780530e-03 2.48885310e-03\n",
      "  2.46998478e-03 2.45120117e-03 2.43250308e-03 2.41389129e-03\n",
      "  2.39536654e-03 2.37692953e-03 2.35858094e-03 2.34032143e-03\n",
      "  2.32215161e-03 2.30407207e-03 2.28608338e-03 2.26818605e-03\n",
      "  2.25038061e-03 2.23266753e-03 2.21504726e-03 2.19752023e-03\n",
      "  2.18008684e-03 2.16274747e-03 2.14550248e-03 2.12835219e-03\n",
      "  2.11129692e-03 2.09433694e-03 2.07747253e-03 2.06070393e-03\n",
      "  2.04403136e-03 2.02745501e-03 2.01097508e-03 1.99459173e-03\n",
      "  1.97830509e-03 1.96211530e-03 1.94602246e-03 1.93002666e-03\n",
      "  1.91412797e-03 1.89832645e-03 1.88262214e-03 1.86701506e-03\n",
      "  1.85150522e-03 1.83609262e-03 1.82077722e-03 1.80555899e-03\n",
      "  1.79043789e-03 1.77541384e-03 1.76048677e-03 1.74565659e-03\n",
      "  1.73092320e-03 1.71628647e-03 1.70174628e-03 1.68730250e-03\n",
      "  1.67295496e-03 1.65870351e-03 1.64454797e-03 1.63048816e-03\n",
      "  1.61652389e-03 1.60265494e-03 1.58888112e-03 1.57520219e-03\n",
      "  1.56161793e-03 1.54812808e-03 1.53473241e-03 1.52143066e-03\n",
      "  1.50822255e-03 1.49510781e-03 1.48208617e-03 1.46915733e-03\n",
      "  1.45632100e-03 1.44357687e-03 1.43092463e-03 1.41836397e-03\n",
      "  1.40589457e-03 1.39351609e-03 1.38122821e-03 1.36903057e-03\n",
      "  1.35692284e-03 1.34490466e-03 1.33297567e-03 1.32113552e-03\n",
      "  1.30938384e-03 1.29772026e-03 1.28614440e-03 1.27465588e-03\n",
      "  1.26325433e-03 1.25193934e-03 1.24071053e-03 1.22956751e-03\n",
      "  1.21850987e-03 1.20753722e-03 1.19664915e-03 1.18584525e-03\n",
      "  1.17512511e-03 1.16448832e-03 1.15393445e-03 1.14346310e-03\n",
      "  1.13307384e-03 1.12276624e-03 1.11253988e-03 1.10239434e-03\n",
      "  1.09232918e-03 1.08234396e-03 1.07243827e-03 1.06261166e-03\n",
      "  1.05286370e-03 1.04319395e-03 1.03360197e-03 1.02408732e-03\n",
      "  1.01464955e-03 1.00528824e-03 9.96002931e-04 9.86793183e-04\n",
      "  9.77658551e-04 9.68598590e-04 9.59612855e-04 9.50700900e-04\n",
      "  9.41862278e-04 9.33096543e-04 9.24403247e-04 9.15781944e-04\n",
      "  9.07232187e-04 8.98753528e-04 8.90345520e-04 8.82007716e-04\n",
      "  8.73739670e-04 8.65540935e-04 8.57411065e-04 8.49349614e-04\n",
      "  8.41356137e-04 8.33430190e-04 8.25571327e-04 8.17779105e-04\n",
      "  8.10053082e-04 8.02392814e-04 7.94797862e-04 7.87267783e-04\n",
      "  7.79802139e-04 7.72400489e-04 7.65062398e-04 7.57787426e-04\n",
      "  7.50575140e-04 7.43425103e-04 7.36336883e-04 7.29310047e-04\n",
      "  7.22344163e-04 7.15438802e-04 7.08593535e-04 7.01807934e-04\n",
      "  6.95081574e-04 6.88414029e-04 6.81804877e-04 6.75253695e-04\n",
      "  6.68760063e-04 6.62323563e-04 6.55943776e-04 6.49620288e-04\n",
      "  6.43352683e-04 6.37140550e-04 6.30983477e-04 6.24881055e-04\n",
      "  6.18832877e-04 6.12838535e-04 6.06897627e-04 6.01009749e-04\n",
      "  5.95174501e-04 5.89391484e-04 5.83660301e-04 5.77980555e-04\n",
      "  5.72351855e-04 5.66773807e-04 5.61246022e-04 5.55768112e-04\n",
      "  5.50339691e-04 5.44960375e-04 5.39629781e-04 5.34347530e-04\n",
      "  5.29113242e-04 5.23926540e-04 5.18787052e-04 5.13694403e-04\n",
      "  5.08648223e-04 5.03648144e-04 4.98693799e-04 4.93784823e-04\n",
      "  4.88920854e-04 4.84101530e-04 4.79326494e-04 4.74595389e-04\n",
      "  4.69907860e-04 4.65263554e-04 4.60662121e-04 4.56103213e-04\n",
      "  4.51586483e-04 4.47111587e-04 4.42678182e-04 4.38285927e-04\n",
      "  4.33934486e-04 4.29623522e-04 4.25352699e-04 4.21121687e-04\n",
      "  4.16930156e-04 4.12777777e-04 4.08664224e-04 4.04589174e-04\n",
      "  4.00552304e-04 3.96553296e-04 3.92591831e-04 3.88667594e-04\n",
      "  3.84780270e-04 3.80929549e-04 3.77115122e-04 3.73336679e-04\n",
      "  3.69593917e-04 3.65886532e-04 3.62214221e-04 3.58576687e-04\n",
      "  3.54973632e-04 3.51404760e-04 3.47869778e-04 3.44368395e-04\n",
      "  3.40900322e-04 3.37465270e-04 3.34062956e-04 3.30693096e-04\n",
      "  3.27355409e-04 3.24049614e-04 3.20775436e-04 3.17532598e-04\n",
      "  3.14320827e-04 3.11139852e-04 3.07989404e-04 3.04869214e-04\n",
      "  3.01779017e-04 2.98718549e-04 2.95687549e-04 2.92685757e-04\n",
      "  2.89712915e-04 2.86768766e-04 2.83853058e-04 2.80965536e-04\n",
      "  2.78105952e-04 2.75274057e-04 2.72469603e-04 2.69692346e-04\n",
      "  2.66942044e-04 2.64218455e-04 2.61521339e-04 2.58850460e-04\n",
      "  2.56205582e-04 2.53586471e-04 2.50992894e-04 2.48424622e-04\n",
      "  2.45881427e-04 2.43363081e-04 2.40869359e-04 2.38400039e-04\n",
      "  2.35954899e-04 2.33533719e-04 2.31136281e-04 2.28762370e-04\n",
      "  2.26411770e-04 2.24084268e-04 2.21779655e-04 2.19497719e-04\n",
      "  2.17238254e-04 2.15001052e-04 2.12785911e-04 2.10592626e-04\n",
      "  2.08420997e-04 2.06270824e-04 2.04141909e-04 2.02034055e-04\n",
      "  1.99947069e-04 1.97880757e-04 1.95834927e-04 1.93809389e-04\n",
      "  1.91803954e-04 1.89818437e-04 1.87852651e-04 1.85906413e-04\n",
      "  1.83979541e-04 1.82071852e-04 1.80183170e-04 1.78313314e-04\n",
      "  1.76462110e-04 1.74629382e-04 1.72814957e-04 1.71018664e-04\n",
      "  1.69240330e-04 1.67479789e-04 1.65736871e-04 1.64011411e-04\n",
      "  1.62303244e-04 1.60612207e-04 1.58938137e-04 1.57280874e-04\n",
      "  1.55640259e-04 1.54016134e-04 1.52408343e-04 1.50816729e-04\n",
      "  1.49241140e-04 1.47681423e-04 1.46137427e-04 1.44609001e-04\n",
      "  1.43095998e-04 1.41598269e-04 1.40115670e-04 1.38648054e-04\n",
      "  1.37195279e-04 1.35757202e-04 1.34333683e-04 1.32924582e-04\n",
      "  1.31529759e-04 1.30149079e-04 1.28782404e-04 1.27429600e-04\n",
      "  1.26090533e-04 1.24765070e-04 1.23453081e-04 1.22154434e-04\n",
      "  1.20869002e-04 1.19596655e-04 1.18337268e-04 1.17090715e-04\n",
      "  1.15856870e-04 1.14635611e-04 1.13426816e-04 1.12230363e-04\n",
      "  1.11046132e-04 1.09874004e-04 1.08713862e-04 1.07565588e-04\n",
      "  1.06429066e-04 1.05304181e-04 1.04190821e-04 1.03088872e-04\n",
      "  1.01998222e-04 1.00918761e-04 9.98503794e-05 9.87929680e-05\n",
      "  9.77464193e-05 9.67106267e-05 9.56854844e-05 9.46708876e-05\n",
      "  9.36667325e-05 9.26729163e-05 9.16893370e-05 9.07158937e-05\n",
      "  8.97524864e-05 8.87990158e-05 8.78553839e-05 8.69214933e-05\n",
      "  8.59972475e-05 8.50825512e-05 8.41773096e-05 8.32814290e-05\n",
      "  8.23948165e-05 8.15173802e-05 8.06490288e-05 7.97896720e-05\n",
      "  7.89392204e-05 7.80975853e-05 7.72646790e-05 7.64404144e-05\n",
      "  7.56247053e-05 7.48174665e-05 7.40186133e-05 7.32280619e-05\n",
      "  7.24457295e-05 7.16715337e-05 7.09053932e-05 7.01472273e-05\n",
      "  6.93969560e-05 6.86545003e-05 6.79197818e-05 6.71927228e-05\n",
      "  6.64732463e-05 6.57612762e-05 6.50567370e-05 6.43595540e-05\n",
      "  6.36696531e-05 6.29869610e-05 6.23114050e-05 6.16429132e-05\n",
      "  6.09814144e-05 6.03268379e-05 5.96791139e-05 5.90381731e-05\n",
      "  5.84039469e-05 5.77763675e-05 5.71553675e-05 5.65408804e-05\n",
      "  5.59328401e-05 5.53311814e-05 5.47358394e-05 5.41467501e-05\n",
      "  5.35638501e-05 5.29870764e-05 5.24163668e-05 5.18516597e-05\n",
      "  5.12928940e-05 5.07400091e-05 5.01929453e-05 4.96516432e-05\n",
      "  4.91160442e-05 4.85860899e-05 4.80617230e-05 4.75428862e-05\n",
      "  4.70295231e-05 4.65215779e-05 4.60189951e-05 4.55217198e-05\n",
      "  4.50296979e-05 4.45428754e-05 4.40611991e-05 4.35846164e-05\n",
      "  4.31130749e-05 4.26465230e-05 4.21849095e-05 4.17281836e-05\n",
      "  4.12762953e-05 4.08291947e-05 4.03868327e-05 3.99491605e-05\n",
      "  3.95161298e-05 3.90876930e-05 3.86638026e-05 3.82444119e-05\n",
      "  3.78294744e-05 3.74189443e-05 3.70127760e-05 3.66109246e-05\n",
      "  3.62133455e-05 3.58199945e-05 3.54308280e-05 3.50458026e-05\n",
      "  3.46648756e-05 3.42880046e-05 3.39151475e-05 3.35462628e-05\n",
      "  3.31813093e-05 3.28202464e-05 3.24630336e-05 3.21096309e-05\n",
      "  3.17599990e-05 3.14140986e-05 3.10718910e-05 3.07333377e-05\n",
      "  3.03984009e-05 3.00670429e-05 2.97392265e-05 2.94149148e-05\n",
      "  2.90940713e-05 2.87766599e-05 2.84626450e-05 2.81519909e-05\n",
      "  2.78446628e-05 2.75406259e-05 2.72398459e-05 2.69422887e-05\n",
      "  2.66479208e-05 2.63567088e-05 2.60686197e-05 2.57836208e-05\n",
      "  2.55016799e-05 2.52227650e-05 2.49468443e-05 2.46738866e-05\n",
      "  2.44038608e-05 2.41367361e-05 2.38724823e-05 2.36110690e-05\n",
      "  2.33524667e-05 2.30966457e-05 2.28435769e-05 2.25932314e-05\n",
      "  2.23455805e-05 2.21005960e-05 2.18582498e-05 2.16185142e-05\n",
      "  2.13813617e-05 2.11467652e-05 2.09146976e-05 2.06851325e-05\n",
      "  2.04580434e-05 2.02334043e-05 2.00111893e-05 1.97913728e-05\n",
      "  1.95739296e-05 1.93588346e-05 1.91460631e-05 1.89355905e-05\n",
      "  1.87273924e-05 1.85214450e-05 1.83177243e-05 1.81162069e-05\n",
      "  1.79168695e-05 1.77196889e-05 1.75246425e-05 1.73317074e-05\n",
      "  1.71408615e-05 1.69520826e-05 1.67653487e-05 1.65806383e-05\n",
      "  1.63979297e-05 1.62172019e-05 1.60384338e-05 1.58616046e-05\n",
      "  1.56866937e-05 1.55136807e-05 1.53425455e-05 1.51732681e-05\n",
      "  1.50058288e-05 1.48402080e-05 1.46763863e-05 1.45143448e-05\n",
      "  1.43540643e-05 1.41955262e-05 1.40387119e-05 1.38836030e-05\n",
      "  1.37301813e-05 1.35784290e-05 1.34283281e-05 1.32798611e-05\n",
      "  1.31330105e-05 1.29877591e-05 1.28440898e-05 1.27019857e-05\n",
      "  1.25614302e-05 1.24224066e-05 1.22848986e-05 1.21488899e-05\n",
      "  1.20143647e-05 1.18813069e-05 1.17497009e-05 1.16195312e-05\n",
      "  1.14907824e-05 1.13634392e-05 1.12374866e-05 1.11129098e-05\n",
      "  1.09896939e-05 1.08678244e-05 1.07472868e-05 1.06280669e-05\n",
      "  1.05101505e-05 1.03935237e-05 1.02781725e-05 1.01640834e-05\n",
      "  1.00512426e-05 9.93963694e-06 9.82925301e-06 9.72007770e-06\n",
      "  9.61209803e-06 9.50530113e-06 9.39967428e-06 9.29520490e-06\n",
      "  9.19188052e-06 9.08968882e-06 8.98861760e-06 8.88865480e-06\n",
      "  8.78978847e-06 8.69200680e-06 8.59529809e-06 8.49965078e-06\n",
      "  8.40505342e-06 8.31149468e-06 8.21896337e-06 8.12744838e-06\n",
      "  8.03693875e-06 7.94742362e-06 7.85889226e-06 7.77133402e-06\n",
      "  7.68473841e-06 7.59909501e-06 7.51439352e-06 7.43062378e-06\n",
      "  7.34777568e-06 7.26583927e-06 7.18480468e-06 7.10466214e-06\n",
      "  7.02540200e-06 6.94701471e-06 6.86949080e-06 6.79282093e-06\n",
      "  6.71699584e-06 6.64200636e-06 6.56784345e-06 6.49449814e-06\n",
      "  6.42196156e-06 6.35022493e-06 6.27927957e-06 6.20911690e-06\n",
      "  6.13972842e-06 6.07110572e-06 6.00324048e-06 5.93612447e-06\n",
      "  5.86974955e-06 5.80410767e-06 5.73919086e-06 5.67499122e-06\n",
      "  5.61150097e-06 5.54871238e-06 5.48661781e-06 5.42520973e-06\n",
      "  5.36448064e-06 5.30442316e-06 5.24502998e-06 5.18629385e-06\n",
      "  5.12820762e-06 5.07076420e-06 5.01395659e-06 4.95777786e-06\n",
      "  4.90222115e-06 4.84727967e-06 4.79294671e-06 4.73921563e-06\n",
      "  4.68607987e-06 4.63353291e-06 4.58156834e-06 4.53017980e-06\n",
      "  4.47936098e-06 4.42910567e-06 4.37940771e-06 4.33026101e-06\n",
      "  4.28165953e-06 4.23359732e-06 4.18606848e-06 4.13906718e-06\n",
      "  4.09258764e-06 4.04662415e-06 4.00117106e-06 3.95622279e-06\n",
      "  3.91177381e-06 3.86781865e-06 3.82435189e-06 3.78136820e-06\n",
      "  3.73886227e-06 3.69682887e-06 3.65526281e-06 3.61415898e-06\n",
      "  3.57351230e-06 3.53331775e-06 3.49357039e-06 3.45426529e-06\n",
      "  3.41539761e-06 3.37696254e-06 3.33895533e-06 3.30137129e-06\n",
      "  3.26420576e-06 3.22745415e-06 3.19111191e-06 3.15517454e-06\n",
      "  3.11963758e-06 3.08449665e-06 3.04974737e-06 3.01538545e-06\n",
      "  2.98140661e-06 2.94780666e-06 2.91458141e-06 2.88172674e-06\n",
      "  2.84923858e-06 2.81711288e-06 2.78534566e-06 2.75393296e-06\n",
      "  2.72287088e-06 2.69215556e-06 2.66178318e-06 2.63174995e-06\n",
      "  2.60205213e-06 2.57268603e-06 2.54364799e-06 2.51493438e-06\n",
      "  2.48654164e-06 2.45846621e-06 2.43070460e-06 2.40325334e-06\n",
      "  2.37610901e-06 2.34926822e-06 2.32272760e-06 2.29648386e-06\n",
      "  2.27053370e-06 2.24487389e-06 2.21950121e-06 2.19441249e-06\n",
      "  2.16960459e-06 2.14507440e-06 2.12081886e-06 2.09683493e-06\n",
      "  2.07311960e-06 2.04966989e-06 2.02648287e-06 2.00355564e-06\n",
      "  1.98088531e-06 1.95846904e-06 1.93630401e-06 1.91438745e-06\n",
      "  1.89271660e-06 1.87128874e-06 1.85010117e-06 1.82915123e-06\n",
      "  1.80843629e-06 1.78795375e-06 1.76770102e-06 1.74767555e-06\n",
      "  1.72787483e-06 1.70829636e-06 1.68893768e-06 1.66979634e-06\n",
      "  1.65086994e-06 1.63215608e-06 1.61365241e-06 1.59535659e-06\n",
      "  1.57726632e-06 1.55937930e-06 1.54169329e-06 1.52420605e-06\n",
      "  1.50691537e-06 1.48981906e-06 1.47291497e-06 1.45620095e-06\n",
      "  1.43967490e-06 1.42333472e-06 1.40717834e-06 1.39120372e-06\n",
      "  1.37540884e-06 1.35979170e-06 1.34435031e-06 1.32908272e-06\n",
      "  1.31398700e-06 1.29906123e-06 1.28430352e-06 1.26971200e-06\n",
      "  1.25528481e-06 1.24102013e-06 1.22691614e-06 1.21297105e-06\n",
      "  1.19918310e-06 1.18555052e-06 1.17207158e-06 1.15874458e-06\n",
      "  1.14556782e-06 1.13253962e-06 1.11965832e-06 1.10692229e-06\n",
      "  1.09432990e-06 1.08187956e-06 1.06956966e-06 1.05739865e-06\n",
      "  1.04536498e-06 1.03346711e-06 1.02170352e-06 1.01007272e-06\n",
      "  9.98573211e-07 9.87203540e-07 9.75962251e-07 9.64847908e-07\n",
      "  9.53859093e-07 9.42994401e-07 9.32252446e-07 0.00000000e+00\n",
      "  1.54309031e-04 3.04784348e-04 4.51497383e-04 5.94518390e-04\n",
      "  7.33916455e-04 8.69759518e-04 1.00211439e-03 1.13104677e-03\n",
      "  1.25662127e-03 1.37890141e-03 1.49794966e-03 1.61382746e-03\n",
      "  1.72659518e-03 1.83631223e-03 1.94303700e-03 2.04682688e-03\n",
      "  2.14773834e-03 2.24582687e-03 2.34114702e-03 2.43375245e-03\n",
      "  2.52369588e-03 2.61102917e-03 2.69580329e-03 2.77806833e-03\n",
      "  2.85787355e-03 2.93526737e-03 3.01029739e-03 3.08301039e-03\n",
      "  3.15345236e-03 3.22166849e-03 3.28770323e-03 3.35160023e-03\n",
      "  3.41340242e-03 3.47315198e-03 3.53089038e-03 3.58665835e-03\n",
      "  3.64049595e-03 3.69244252e-03 3.74253675e-03 3.79081662e-03\n",
      "  3.83731950e-03 3.88208208e-03 3.92514042e-03 3.96652995e-03\n",
      "  4.00628549e-03 4.04444124e-03 4.08103083e-03 4.11608727e-03\n",
      "  4.14964301e-03 4.18172991e-03 4.21237930e-03 4.24162194e-03\n",
      "  4.26948804e-03 4.29600730e-03 4.32120887e-03 4.34512141e-03\n",
      "  4.36777304e-03 4.38919141e-03 4.40940365e-03 4.42843643e-03\n",
      "  4.44631594e-03 4.46306788e-03 4.47871751e-03 4.49328964e-03\n",
      "  4.50680862e-03 4.51929836e-03 4.53078235e-03 4.54128365e-03\n",
      "  4.55082490e-03 4.55942834e-03 4.56711579e-03 4.57390867e-03]]\n"
     ]
    }
   ],
   "source": [
    "import numpy as np\n",
    "\n",
    "\n",
    "def H(opt, model_size, obs_dens, **kwargs):\n",
    "    model_grids = np.arange(1, model_size + 1)\n",
    "    obs_grids = model_grids[model_grids % obs_dens == 0]\n",
    "    nobsgrid = len(obs_grids)\n",
    "\n",
    "    nobsgrid = len(obs_grids)\n",
    "    Hk = np.mat(np.zeros((nobsgrid, model_size)))\n",
    "\n",
    "    if opt == 'single':\n",
    "        for iobs in range(0, nobsgrid):\n",
    "            x1 = obs_grids[iobs] - 1\n",
    "            Hk[iobs, x1] = 1.0\n",
    "\n",
    "        return Hk\n",
    "\n",
    "    elif opt == 'average':\n",
    "        ave_range = kwargs['ave_range'] * model_size\n",
    "        if ave_range % 2 != 0:\n",
    "            raise ValueError('average range * model_size should be an even number')\n",
    "        else:\n",
    "            for iobs in range(0, nobsgrid):\n",
    "                x1 = obs_grids[iobs] - 1\n",
    "                if x1+int(ave_range/2)+1 > model_size:\n",
    "                    Hk[iobs, x1-int(ave_range/2):model_size] = 1.0 / (ave_range+1)\n",
    "                    Hk[iobs, 0:x1+int(ave_range/2)+1-model_size] = 1.0 / (ave_range+1)\n",
    "                elif x1-int(ave_range/2) < 0:\n",
    "                    Hk[iobs, 0:x1+int(ave_range/2)+1] = 1.0 / (ave_range+1)\n",
    "                    Hk[iobs, x1-int(ave_range/2):] = 1.0 / (ave_range+1)        \n",
    "                else:\n",
    "                    Hk[iobs, x1-int(ave_range/2):x1+int(ave_range/2)+1] = 1.0 / (ave_range+1)\n",
    "\n",
    "        return Hk\n",
    "\n",
    "    elif opt == 'gamma_weighted':\n",
    "        gamma = kwargs['gamma']\n",
    "        theta = kwargs['theta']\n",
    "        for iobs in range(nobsgrid):\n",
    "            Hk[iobs,:] = np.roll(gamma, -theta+(iobs+1)*obs_dens-1)\n",
    "\n",
    "        return Hk\n",
    "\n",
    "    else:\n",
    "        raise ValueError('wrong option, current options are: \\'single\\', \\'average\\', \\'gamma_weighted\\'')\n",
    "\n",
    "\n",
    "\n",
    "if __name__ == '__main__':\n",
    "    # model parameters\n",
    "    model_size = 960  # N\n",
    "    # observation parameters\n",
    "    obs_dens = 4\n",
    "\n",
    "    gamma = np.load('gamma_k2_theta80.npy')\n",
    "    Hk = H('gamma_weighted', model_size, obs_dens, gamma=gamma, theta=80)\n",
    "#     Hk = H('single', model_size, obs_dens)\n",
    "#     Hk = H('average', model_size, obs_dens,ave_range=0.25)\n",
    "\n",
    "    print(Hk[1,:])"
   ]
  },
  {
   "cell_type": "code",
   "execution_count": 197,
   "metadata": {},
   "outputs": [],
   "source": [
    "from scipy.io import savemat\n",
    "\n",
    "savemat('Hk_gamma80.mat', {'Hk':np.array(Hk)})"
   ]
  },
  {
   "cell_type": "code",
   "execution_count": 118,
   "metadata": {},
   "outputs": [],
   "source": [
    "\n",
    "# model parameters\n",
    "model_size = 960  # N\n",
    "# observation parameters\n",
    "obs_density = 4\n",
    "\n",
    "# regular temporal / sptial obs\n",
    "model_grids = np.arange(1, model_size + 1)\n",
    "obs_grids = model_grids[model_grids % obs_density == 0]\n",
    "nobsgrid = len(obs_grids)\n",
    "\n",
    "# make forward operator H\n",
    "Hk = np.mat(np.zeros((nobsgrid, model_size)))\n",
    "ave_range = 0.25 * model_size\n",
    "if ave_range % 2 != 0:\n",
    "    raise ValueError('average range * model_size should be an even number')\n",
    "else:\n",
    "    for iobs in range(0, nobsgrid):\n",
    "        x1 = obs_grids[iobs] - 1\n",
    "        if x1+int(ave_range/2)+1 > model_size:\n",
    "            Hk[iobs, x1-int(ave_range/2):model_size] = 1.0 / (ave_range+1)\n",
    "            Hk[iobs, 0:x1+int(ave_range/2)+1-model_size] = 1.0 / (ave_range+1)\n",
    "        elif x1-int(ave_range/2) < 0:\n",
    "            Hk[iobs, 0:x1+int(ave_range/2)+1] = 1.0 / (ave_range+1)\n",
    "            Hk[iobs, x1-int(ave_range/2):] = 1.0 / (ave_range+1)        \n",
    "        else:\n",
    "            Hk[iobs, x1-int(ave_range/2):x1+int(ave_range/2)+1] = 1.0 / (ave_range+1)\n"
   ]
  },
  {
   "cell_type": "code",
   "execution_count": 135,
   "metadata": {},
   "outputs": [
    {
     "data": {
      "image/png": "[encoded data removed]",
      "text/plain": [
       "<Figure size 432x288 with 2 Axes>"
      ]
     },
     "metadata": {
      "needs_background": "light"
     },
     "output_type": "display_data"
    }
   ],
   "source": [
    "import matplotlib.pyplot as plt\n",
    "\n",
    "\n",
    "plt.imshow(np.tile(Hk, (4,1)), cmap=plt.cm.seismic)\n",
    "plt.colorbar()\n",
    "plt.show()"
   ]
  },
  {
   "cell_type": "code",
   "execution_count": 156,
   "metadata": {},
   "outputs": [
    {
     "data": {
      "text/plain": [
       "numpy.matrix"
      ]
     },
     "execution_count": 156,
     "metadata": {},
     "output_type": "execute_result"
    }
   ],
   "source": [
    "type(Hk)"
   ]
  },
  {
   "cell_type": "code",
   "execution_count": 162,
   "metadata": {},
   "outputs": [
    {
     "data": {
      "text/plain": [
       "(3,)"
      ]
     },
     "execution_count": 162,
     "metadata": {},
     "output_type": "execute_result"
    }
   ],
   "source": [
    "(np.ones((3,3)) @ np.array([3,1,3])).shape"
   ]
  },
  {
   "cell_type": "code",
   "execution_count": 168,
   "metadata": {},
   "outputs": [
    {
     "data": {
      "text/plain": [
       "array([[ 1.        , -0.5       ],\n",
       "       [-0.66666667,  0.5       ]])"
      ]
     },
     "execution_count": 168,
     "metadata": {},
     "output_type": "execute_result"
    }
   ],
   "source": [
    "from numpy.linalg import inv\n",
    "\n",
    "inv(np.array([[2,3],[4,5]]) + np.eye(2,2))"
   ]
  },
  {
   "cell_type": "code",
   "execution_count": 169,
   "metadata": {},
   "outputs": [
    {
     "data": {
      "text/plain": [
       "array([[1., 1., 1.],\n",
       "       [1., 1., 1.],\n",
       "       [1., 1., 1.],\n",
       "       [1., 1., 1.]])"
      ]
     },
     "execution_count": 169,
     "metadata": {},
     "output_type": "execute_result"
    }
   ],
   "source": [
    "np.ones((3,4)).T"
   ]
  },
  {
   "cell_type": "code",
   "execution_count": 167,
   "metadata": {},
   "outputs": [
    {
     "data": {
      "text/plain": [
       "array([[1., 0.],\n",
       "       [0., 1.]])"
      ]
     },
     "execution_count": 167,
     "metadata": {},
     "output_type": "execute_result"
    }
   ],
   "source": [
    "np.eye(2,2)"
   ]
  },
  {
   "cell_type": "code",
   "execution_count": 153,
   "metadata": {},
   "outputs": [
    {
     "data": {
      "text/plain": [
       "(1, 3)"
      ]
     },
     "execution_count": 153,
     "metadata": {},
     "output_type": "execute_result"
    }
   ],
   "source": [
    "op = np.ones((2,3,4))\n",
    "opt = (np.mean(op[0,:,:],axis=0)).T\n",
    "(np.ones((3,4)) @ opt)[None,:].shape\n"
   ]
  }
 ],
 "metadata": {
  "kernelspec": {
   "display_name": "Python [conda env:condapy3]",
   "language": "python",
   "name": "conda-env-condapy3-py"
  },
  "language_info": {
   "codemirror_mode": {
    "name": "ipython",
    "version": 3
   },
   "file_extension": ".py",
   "mimetype": "text/x-python",
   "name": "python",
   "nbconvert_exporter": "python",
   "pygments_lexer": "ipython3",
   "version": "3.8.3"
  }
 },
 "nbformat": 4,
 "nbformat_minor": 4
}
